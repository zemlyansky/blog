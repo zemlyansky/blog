{
 "cells": [
  {
   "cell_type": "markdown",
   "metadata": {},
   "source": [
    "Jupyter Notebook позволяет выбирать ядро, которое обрабатывает блоки кода. Пробую [ijavascript](https://github.com/n-riesco/ijavascript)"
   ]
  },
  {
   "cell_type": "code",
   "execution_count": 1,
   "metadata": {},
   "outputs": [
    {
     "data": {
      "text/plain": [
       "15"
      ]
     },
     "execution_count": 1,
     "metadata": {},
     "output_type": "execute_result"
    }
   ],
   "source": [
    "var a = [1,2,3,4,5]\n",
    "\n",
    "a.reduce((a,v) => a + v)"
   ]
  },
  {
   "cell_type": "markdown",
   "metadata": {},
   "source": [
    "Для загрузки внешних модулей с *npm*, в папке с блокнотами Jupyter (скорее всего это папка content) можно инициализировать *npm init* и  установить необходимые модули (например *npm i -S online-stats*). В дальнейшем они будут доступны для всех блокнотов в этой папке. "
   ]
  },
  {
   "cell_type": "code",
   "execution_count": 2,
   "metadata": {},
   "outputs": [],
   "source": [
    "var stats = require('online-stats')"
   ]
  },
  {
   "cell_type": "code",
   "execution_count": 3,
   "metadata": {},
   "outputs": [
    {
     "data": {
      "text/plain": [
       "{ Mean: [Function],\n",
       "  Variance: [Function],\n",
       "  Min: [Function],\n",
       "  Max: [Function],\n",
       "  Median: [Function],\n",
       "  Std: [Function],\n",
       "  Covariance: [Function] }"
      ]
     },
     "execution_count": 3,
     "metadata": {},
     "output_type": "execute_result"
    }
   ],
   "source": [
    "stats"
   ]
  },
  {
   "cell_type": "code",
   "execution_count": 4,
   "metadata": {},
   "outputs": [
    {
     "data": {
      "text/plain": [
       "2"
      ]
     },
     "execution_count": 4,
     "metadata": {},
     "output_type": "execute_result"
    }
   ],
   "source": [
    "var vari = stats.Variance()\n",
    "a.forEach(v => vari(v))\n",
    "vari()"
   ]
  },
  {
   "cell_type": "markdown",
   "metadata": {},
   "source": [
    "Для отображения сгенерированного скриптом html-кода, svg или png изображений ijavascript предоставляет вспомогательные функции:\n",
    "* \\$\\$.html()\n",
    "* \\$\\$.svg()\n",
    "* \\$\\$.png()"
   ]
  },
  {
   "cell_type": "code",
   "execution_count": 5,
   "metadata": {},
   "outputs": [],
   "source": [
    "var svg = `\n",
    "<svg height=\"100\" width=\"100\">\n",
    "  <circle cx=\"50\" cy=\"50\" r=\"40\" stroke=\"black\" stroke-width=\"3\" fill=\"red\" />\n",
    "  Sorry, your browser does not support inline SVG.  \n",
    "</svg> \n",
    "`"
   ]
  },
  {
   "cell_type": "code",
   "execution_count": 12,
   "metadata": {},
   "outputs": [
    {
     "data": {
      "image/svg+xml": [
       "\n",
       "<svg height=\"100\" width=\"100\">\n",
       "  <circle cx=\"50\" cy=\"50\" r=\"40\" stroke=\"black\" stroke-width=\"3\" fill=\"red\" />\n",
       "  Sorry, your browser does not support inline SVG.  \n",
       "</svg> \n"
      ]
     },
     "execution_count": 12,
     "metadata": {},
     "output_type": "execute_result"
    }
   ],
   "source": [
    "$$.svg(svg)"
   ]
  },
  {
   "cell_type": "code",
   "execution_count": 13,
   "metadata": {},
   "outputs": [
    {
     "data": {
      "text/html": [
       "<iframe src=\"https://statsim.com/app\" width=\"700\" height=\"400\"></iframe>"
      ]
     },
     "execution_count": 13,
     "metadata": {},
     "output_type": "execute_result"
    }
   ],
   "source": [
    "$$.html(`<iframe src=\"https://statsim.com/app\" width=\"700\" height=\"400\"></iframe>`)"
   ]
  },
  {
   "cell_type": "code",
   "execution_count": null,
   "metadata": {},
   "outputs": [],
   "source": []
  }
 ],
 "metadata": {
  "kernelspec": {
   "display_name": "Javascript (Node.js)",
   "language": "javascript",
   "name": "javascript"
  },
  "language_info": {
   "file_extension": ".js",
   "mimetype": "application/javascript",
   "name": "javascript",
   "version": "9.8.0"
  }
 },
 "nbformat": 4,
 "nbformat_minor": 2
}
